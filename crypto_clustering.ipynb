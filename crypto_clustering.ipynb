{
 "cells": [
  {
   "cell_type": "markdown",
   "id": "70343f5d",
   "metadata": {},
   "source": [
    "# Clustering Crypto"
   ]
  },
  {
   "cell_type": "code",
   "execution_count": 194,
   "id": "2dfe615e",
   "metadata": {},
   "outputs": [],
   "source": [
    "# Initial imports\n",
    "import matplotlib.pyplot as plt\n",
    "import pandas as pd\n",
    "import hvplot.pandas\n",
    "from path import Path\n",
    "import plotly.express as px\n",
    "from sklearn.preprocessing import StandardScaler, MinMaxScaler\n",
    "from sklearn.decomposition import PCA\n",
    "from sklearn.cluster import KMeans"
   ]
  },
  {
   "cell_type": "markdown",
   "id": "dbedf072",
   "metadata": {},
   "source": [
    "## Pre-processing the Data for PCA"
   ]
  },
  {
   "cell_type": "code",
   "execution_count": 195,
   "id": "61443c91",
   "metadata": {},
   "outputs": [
    {
     "data": {
      "text/plain": [
       "CoinName            object\n",
       "Algorithm           object\n",
       "IsTrading             bool\n",
       "ProofType           object\n",
       "TotalCoinsMined    float64\n",
       "TotalCoinSupply     object\n",
       "dtype: object"
      ]
     },
     "execution_count": 195,
     "metadata": {},
     "output_type": "execute_result"
    }
   ],
   "source": [
    "# Load the crypto_data.csv dataset.\n",
    "crypto_df = pd.read_csv('crypto_data.csv', index_col=0)\n",
    "crypto_df.dtypes"
   ]
  },
  {
   "cell_type": "code",
   "execution_count": 196,
   "id": "1a3e2090",
   "metadata": {},
   "outputs": [
    {
     "data": {
      "text/plain": [
       "True    1144\n",
       "Name: IsTrading, dtype: int64"
      ]
     },
     "execution_count": 196,
     "metadata": {},
     "output_type": "execute_result"
    }
   ],
   "source": [
    "# Keep all the cryptocurrencies that are being traded.\n",
    "crypto_df = crypto_df[crypto_df['IsTrading'] == True]\n",
    "crypto_df[\"IsTrading\"].value_counts()"
   ]
  },
  {
   "cell_type": "code",
   "execution_count": 197,
   "id": "e17a2817",
   "metadata": {},
   "outputs": [
    {
     "data": {
      "text/plain": [
       "(1144, 5)"
      ]
     },
     "execution_count": 197,
     "metadata": {},
     "output_type": "execute_result"
    }
   ],
   "source": [
    "# Remove the \"IsTrading\" column. \n",
    "crypto_df.drop('IsTrading', axis=1, inplace=True)\n",
    "crypto_df.shape"
   ]
  },
  {
   "cell_type": "code",
   "execution_count": 198,
   "id": "58f2607a",
   "metadata": {},
   "outputs": [
    {
     "data": {
      "text/plain": [
       "(685, 5)"
      ]
     },
     "execution_count": 198,
     "metadata": {},
     "output_type": "execute_result"
    }
   ],
   "source": [
    "# Remove rows that have at least 1 null value.\n",
    "crypto_df.dropna().shape"
   ]
  },
  {
   "cell_type": "code",
   "execution_count": 199,
   "id": "1dbf2d1d",
   "metadata": {},
   "outputs": [
    {
     "data": {
      "text/plain": [
       "(532, 5)"
      ]
     },
     "execution_count": 199,
     "metadata": {},
     "output_type": "execute_result"
    }
   ],
   "source": [
    "# Keep the rows where coins are mined.\n",
    "crypto_df = crypto_df[crypto_df['TotalCoinsMined'] > 0]\n",
    "crypto_df.shape"
   ]
  },
  {
   "cell_type": "code",
   "execution_count": 200,
   "id": "e14c040a",
   "metadata": {},
   "outputs": [
    {
     "data": {
      "text/plain": [
       "42        42 Coin\n",
       "404       404Coin\n",
       "1337    EliteCoin\n",
       "BTC       Bitcoin\n",
       "ETH      Ethereum\n",
       "Name: CoinName, dtype: object"
      ]
     },
     "execution_count": 200,
     "metadata": {},
     "output_type": "execute_result"
    }
   ],
   "source": [
    "crypto_name_df = crypto_df['CoinName']\n",
    "crypto_name_df.head()"
   ]
  },
  {
   "cell_type": "code",
   "execution_count": 201,
   "id": "ad2d9f30",
   "metadata": {},
   "outputs": [
    {
     "data": {
      "text/plain": [
       "(532, 4)"
      ]
     },
     "execution_count": 201,
     "metadata": {},
     "output_type": "execute_result"
    }
   ],
   "source": [
    "crypto_df.drop('CoinName', axis=1, inplace=True)\n",
    "crypto_df.shape"
   ]
  },
  {
   "cell_type": "code",
   "execution_count": 202,
   "id": "239f95f2",
   "metadata": {},
   "outputs": [
    {
     "data": {
      "text/html": [
       "<div>\n",
       "<style scoped>\n",
       "    .dataframe tbody tr th:only-of-type {\n",
       "        vertical-align: middle;\n",
       "    }\n",
       "\n",
       "    .dataframe tbody tr th {\n",
       "        vertical-align: top;\n",
       "    }\n",
       "\n",
       "    .dataframe thead th {\n",
       "        text-align: right;\n",
       "    }\n",
       "</style>\n",
       "<table border=\"1\" class=\"dataframe\">\n",
       "  <thead>\n",
       "    <tr style=\"text-align: right;\">\n",
       "      <th></th>\n",
       "      <th>TotalCoinsMined</th>\n",
       "      <th>TotalCoinSupply</th>\n",
       "      <th>Algorithm_1GB AES Pattern Search</th>\n",
       "      <th>Algorithm_536</th>\n",
       "      <th>Algorithm_Argon2d</th>\n",
       "      <th>Algorithm_BLAKE256</th>\n",
       "      <th>Algorithm_Blake</th>\n",
       "      <th>Algorithm_Blake2S</th>\n",
       "      <th>Algorithm_Blake2b</th>\n",
       "      <th>Algorithm_C11</th>\n",
       "      <th>...</th>\n",
       "      <th>ProofType_PoW/PoS</th>\n",
       "      <th>ProofType_PoW/PoS</th>\n",
       "      <th>ProofType_PoW/PoW</th>\n",
       "      <th>ProofType_PoW/nPoS</th>\n",
       "      <th>ProofType_Pos</th>\n",
       "      <th>ProofType_Proof of Authority</th>\n",
       "      <th>ProofType_Proof of Trust</th>\n",
       "      <th>ProofType_TPoS</th>\n",
       "      <th>ProofType_Zero-Knowledge Proof</th>\n",
       "      <th>ProofType_dPoW/PoW</th>\n",
       "    </tr>\n",
       "  </thead>\n",
       "  <tbody>\n",
       "    <tr>\n",
       "      <th>42</th>\n",
       "      <td>4.199995e+01</td>\n",
       "      <td>42</td>\n",
       "      <td>0</td>\n",
       "      <td>0</td>\n",
       "      <td>0</td>\n",
       "      <td>0</td>\n",
       "      <td>0</td>\n",
       "      <td>0</td>\n",
       "      <td>0</td>\n",
       "      <td>0</td>\n",
       "      <td>...</td>\n",
       "      <td>1</td>\n",
       "      <td>0</td>\n",
       "      <td>0</td>\n",
       "      <td>0</td>\n",
       "      <td>0</td>\n",
       "      <td>0</td>\n",
       "      <td>0</td>\n",
       "      <td>0</td>\n",
       "      <td>0</td>\n",
       "      <td>0</td>\n",
       "    </tr>\n",
       "    <tr>\n",
       "      <th>404</th>\n",
       "      <td>1.055185e+09</td>\n",
       "      <td>532000000</td>\n",
       "      <td>0</td>\n",
       "      <td>0</td>\n",
       "      <td>0</td>\n",
       "      <td>0</td>\n",
       "      <td>0</td>\n",
       "      <td>0</td>\n",
       "      <td>0</td>\n",
       "      <td>0</td>\n",
       "      <td>...</td>\n",
       "      <td>1</td>\n",
       "      <td>0</td>\n",
       "      <td>0</td>\n",
       "      <td>0</td>\n",
       "      <td>0</td>\n",
       "      <td>0</td>\n",
       "      <td>0</td>\n",
       "      <td>0</td>\n",
       "      <td>0</td>\n",
       "      <td>0</td>\n",
       "    </tr>\n",
       "  </tbody>\n",
       "</table>\n",
       "<p>2 rows × 98 columns</p>\n",
       "</div>"
      ],
      "text/plain": [
       "     TotalCoinsMined TotalCoinSupply  Algorithm_1GB AES Pattern Search  \\\n",
       "42      4.199995e+01              42                                 0   \n",
       "404     1.055185e+09       532000000                                 0   \n",
       "\n",
       "     Algorithm_536  Algorithm_Argon2d  Algorithm_BLAKE256  Algorithm_Blake  \\\n",
       "42               0                  0                   0                0   \n",
       "404              0                  0                   0                0   \n",
       "\n",
       "     Algorithm_Blake2S  Algorithm_Blake2b  Algorithm_C11  ...  \\\n",
       "42                   0                  0              0  ...   \n",
       "404                  0                  0              0  ...   \n",
       "\n",
       "     ProofType_PoW/PoS  ProofType_PoW/PoS   ProofType_PoW/PoW  \\\n",
       "42                   1                   0                  0   \n",
       "404                  1                   0                  0   \n",
       "\n",
       "     ProofType_PoW/nPoS  ProofType_Pos  ProofType_Proof of Authority  \\\n",
       "42                    0              0                             0   \n",
       "404                   0              0                             0   \n",
       "\n",
       "     ProofType_Proof of Trust  ProofType_TPoS  ProofType_Zero-Knowledge Proof  \\\n",
       "42                          0               0                               0   \n",
       "404                         0               0                               0   \n",
       "\n",
       "     ProofType_dPoW/PoW  \n",
       "42                    0  \n",
       "404                   0  \n",
       "\n",
       "[2 rows x 98 columns]"
      ]
     },
     "execution_count": 202,
     "metadata": {},
     "output_type": "execute_result"
    }
   ],
   "source": [
    "X = pd.get_dummies(crypto_df,columns=['Algorithm','ProofType'])\n",
    "X.head(2)"
   ]
  },
  {
   "cell_type": "code",
   "execution_count": 203,
   "id": "abfe57fa",
   "metadata": {},
   "outputs": [
    {
     "data": {
      "text/plain": [
       "array([[-0.11710444, -0.1528531 , -0.0433963 , ..., -0.0433963 ,\n",
       "        -0.0433963 , -0.0433963 ],\n",
       "       [-0.0939656 , -0.14499112, -0.0433963 , ..., -0.0433963 ,\n",
       "        -0.0433963 , -0.0433963 ],\n",
       "       [ 0.5249554 ,  4.48749054, -0.0433963 , ..., -0.0433963 ,\n",
       "        -0.0433963 , -0.0433963 ],\n",
       "       ...,\n",
       "       [-0.09560943, -0.13216038, -0.0433963 , ..., -0.0433963 ,\n",
       "        -0.0433963 , -0.0433963 ],\n",
       "       [-0.11694444, -0.15254276, -0.0433963 , ..., -0.0433963 ,\n",
       "        -0.0433963 , -0.0433963 ],\n",
       "       [-0.11710163, -0.15283832, -0.0433963 , ..., -0.0433963 ,\n",
       "        -0.0433963 , -0.0433963 ]])"
      ]
     },
     "execution_count": 203,
     "metadata": {},
     "output_type": "execute_result"
    }
   ],
   "source": [
    "# Standardize the data with StandardScaler().\n",
    "scaler = StandardScaler()\n",
    "model = scaler.fit(X)\n",
    "scaled_data = model.transform(X)\n",
    "scaled_data"
   ]
  },
  {
   "cell_type": "markdown",
   "id": "4b857119",
   "metadata": {},
   "source": [
    "## Deliverable 2: Reducing Data Dimensions Using PCA"
   ]
  },
  {
   "cell_type": "code",
   "execution_count": 204,
   "id": "1cccbd7d",
   "metadata": {},
   "outputs": [],
   "source": [
    "# Using PCA to reduce dimension to three principal components.\n",
    "pca = PCA(n_components=3).fit_transform(scaled_data)"
   ]
  },
  {
   "cell_type": "code",
   "execution_count": 205,
   "id": "cb4ce306",
   "metadata": {},
   "outputs": [
    {
     "data": {
      "text/html": [
       "<div>\n",
       "<style scoped>\n",
       "    .dataframe tbody tr th:only-of-type {\n",
       "        vertical-align: middle;\n",
       "    }\n",
       "\n",
       "    .dataframe tbody tr th {\n",
       "        vertical-align: top;\n",
       "    }\n",
       "\n",
       "    .dataframe thead th {\n",
       "        text-align: right;\n",
       "    }\n",
       "</style>\n",
       "<table border=\"1\" class=\"dataframe\">\n",
       "  <thead>\n",
       "    <tr style=\"text-align: right;\">\n",
       "      <th></th>\n",
       "      <th>pc1</th>\n",
       "      <th>pc2</th>\n",
       "      <th>pc3</th>\n",
       "    </tr>\n",
       "  </thead>\n",
       "  <tbody>\n",
       "    <tr>\n",
       "      <th>42</th>\n",
       "      <td>-0.315620</td>\n",
       "      <td>0.964090</td>\n",
       "      <td>-0.541708</td>\n",
       "    </tr>\n",
       "    <tr>\n",
       "      <th>404</th>\n",
       "      <td>-0.299008</td>\n",
       "      <td>0.964338</td>\n",
       "      <td>-0.542077</td>\n",
       "    </tr>\n",
       "  </tbody>\n",
       "</table>\n",
       "</div>"
      ],
      "text/plain": [
       "          pc1       pc2       pc3\n",
       "42  -0.315620  0.964090 -0.541708\n",
       "404 -0.299008  0.964338 -0.542077"
      ]
     },
     "execution_count": 205,
     "metadata": {},
     "output_type": "execute_result"
    }
   ],
   "source": [
    "# Create a DataFrame with the three principal components.\n",
    "pcs_df = pd.DataFrame(data = pca, columns = ['pc1', 'pc2', 'pc3'], index=crypto_df.index)\n",
    "pcs_df.head(2)"
   ]
  },
  {
   "cell_type": "markdown",
   "id": "7b11c66e",
   "metadata": {},
   "source": [
    "## Deliverable 3: Clustering Crytocurrencies Using K-Means\n",
    "### Finding the Best Value for k Using the Elbow Curve"
   ]
  },
  {
   "cell_type": "code",
   "execution_count": 206,
   "id": "3c785c1e",
   "metadata": {
    "scrolled": false
   },
   "outputs": [
    {
     "name": "stderr",
     "output_type": "stream",
     "text": [
      "C:\\Users\\ryanj\\anaconda3\\envs\\mlenv\\lib\\site-packages\\sklearn\\cluster\\_kmeans.py:1037: UserWarning: KMeans is known to have a memory leak on Windows with MKL, when there are less chunks than available threads. You can avoid it by setting the environment variable OMP_NUM_THREADS=3.\n",
      "  \"KMeans is known to have a memory leak on Windows \"\n"
     ]
    }
   ],
   "source": [
    "# Create an elbow curve to find the best value for K.inertia = []\n",
    "inertia = []\n",
    "k = list(range(1,11))\n",
    "\n",
    "# Calculate the inertia for the range of K values\n",
    "for i in k:\n",
    "    km = KMeans(n_clusters=i, random_state=0)\n",
    "    km.fit(pcs_df)\n",
    "    inertia.append(km.inertia_)"
   ]
  },
  {
   "cell_type": "code",
   "execution_count": 207,
   "id": "6557000a",
   "metadata": {},
   "outputs": [
    {
     "data": {},
     "metadata": {},
     "output_type": "display_data"
    },
    {
     "data": {
      "application/vnd.holoviews_exec.v0+json": "",
      "text/html": [
       "<div id='1962'>\n",
       "\n",
       "\n",
       "\n",
       "\n",
       "\n",
       "  <div class=\"bk-root\" id=\"ee887624-ca68-4134-9f34-efe0ea223cd2\" data-root-id=\"1962\"></div>\n",
       "</div>\n",
       "<script type=\"application/javascript\">(function(root) {\n",
       "  function embed_document(root) {\n",
       "    var docs_json = {\"a7d93d34-fcdd-4732-8cc9-dd63db2ae505\":{\"defs\":[{\"extends\":null,\"module\":null,\"name\":\"ReactiveHTML1\",\"overrides\":[],\"properties\":[]},{\"extends\":null,\"module\":null,\"name\":\"FlexBox1\",\"overrides\":[],\"properties\":[{\"default\":\"flex-start\",\"kind\":null,\"name\":\"align_content\"},{\"default\":\"flex-start\",\"kind\":null,\"name\":\"align_items\"},{\"default\":\"row\",\"kind\":null,\"name\":\"flex_direction\"},{\"default\":\"wrap\",\"kind\":null,\"name\":\"flex_wrap\"},{\"default\":\"flex-start\",\"kind\":null,\"name\":\"justify_content\"}]},{\"extends\":null,\"module\":null,\"name\":\"TemplateActions1\",\"overrides\":[],\"properties\":[{\"default\":0,\"kind\":null,\"name\":\"open_modal\"},{\"default\":0,\"kind\":null,\"name\":\"close_modal\"}]},{\"extends\":null,\"module\":null,\"name\":\"MaterialTemplateActions1\",\"overrides\":[],\"properties\":[{\"default\":0,\"kind\":null,\"name\":\"open_modal\"},{\"default\":0,\"kind\":null,\"name\":\"close_modal\"}]}],\"roots\":{\"references\":[{\"attributes\":{\"children\":[{\"id\":\"1963\"},{\"id\":\"1967\"},{\"id\":\"2033\"}],\"margin\":[0,0,0,0],\"name\":\"Row03209\",\"tags\":[\"embedded\"]},\"id\":\"1962\",\"type\":\"Row\"},{\"attributes\":{\"coordinates\":null,\"group\":null,\"text\":\"Crypto Elbow Curve\",\"text_color\":\"black\",\"text_font_size\":\"12pt\"},\"id\":\"1968\",\"type\":\"Title\"},{\"attributes\":{\"margin\":[5,5,5,5],\"name\":\"HSpacer03213\",\"sizing_mode\":\"stretch_width\"},\"id\":\"1963\",\"type\":\"Spacer\"},{\"attributes\":{\"callback\":null,\"renderers\":[{\"id\":\"2003\"}],\"tags\":[\"hv_created\"],\"tooltips\":[[\"k\",\"@{k}\"],[\"inertia\",\"@{inertia}\"]]},\"id\":\"1966\",\"type\":\"HoverTool\"},{\"attributes\":{\"data\":{\"inertia\":{\"__ndarray__\":\"hNvus/lgrEAqQMqkBEyjQMRUDHA+35ZAqO29fYOHgUAac/EtOl52QEN1FNV6o3BAijuClb+paUDu/NpyZKFkQNL96vASOGBAdt8yVPdtWkA=\",\"dtype\":\"float64\",\"order\":\"little\",\"shape\":[10]},\"k\":[1,2,3,4,5,6,7,8,9,10]},\"selected\":{\"id\":\"1998\"},\"selection_policy\":{\"id\":\"2021\"}},\"id\":\"1997\",\"type\":\"ColumnDataSource\"},{\"attributes\":{},\"id\":\"1972\",\"type\":\"LinearScale\"},{\"attributes\":{\"axis\":{\"id\":\"1980\"},\"coordinates\":null,\"dimension\":1,\"grid_line_color\":null,\"group\":null,\"ticker\":null},\"id\":\"1983\",\"type\":\"Grid\"},{\"attributes\":{},\"id\":\"1974\",\"type\":\"LinearScale\"},{\"attributes\":{},\"id\":\"2021\",\"type\":\"UnionRenderers\"},{\"attributes\":{},\"id\":\"2013\",\"type\":\"BasicTickFormatter\"},{\"attributes\":{\"below\":[{\"id\":\"1976\"}],\"center\":[{\"id\":\"1979\"},{\"id\":\"1983\"}],\"height\":300,\"left\":[{\"id\":\"1980\"}],\"margin\":[5,5,5,5],\"min_border_bottom\":10,\"min_border_left\":10,\"min_border_right\":10,\"min_border_top\":10,\"renderers\":[{\"id\":\"2003\"}],\"sizing_mode\":\"fixed\",\"title\":{\"id\":\"1968\"},\"toolbar\":{\"id\":\"1990\"},\"width\":700,\"x_range\":{\"id\":\"1964\"},\"x_scale\":{\"id\":\"1972\"},\"y_range\":{\"id\":\"1965\"},\"y_scale\":{\"id\":\"1974\"}},\"id\":\"1967\",\"subtype\":\"Figure\",\"type\":\"Plot\"},{\"attributes\":{},\"id\":\"2014\",\"type\":\"AllLabels\"},{\"attributes\":{},\"id\":\"1998\",\"type\":\"Selection\"},{\"attributes\":{\"margin\":[5,5,5,5],\"name\":\"HSpacer03214\",\"sizing_mode\":\"stretch_width\"},\"id\":\"2033\",\"type\":\"Spacer\"},{\"attributes\":{\"line_alpha\":0.1,\"line_color\":\"#30a2da\",\"line_width\":2,\"x\":{\"field\":\"k\"},\"y\":{\"field\":\"inertia\"}},\"id\":\"2001\",\"type\":\"Line\"},{\"attributes\":{\"overlay\":{\"id\":\"1989\"}},\"id\":\"1987\",\"type\":\"BoxZoomTool\"},{\"attributes\":{\"axis_label\":\"inertia\",\"coordinates\":null,\"formatter\":{\"id\":\"2013\"},\"group\":null,\"major_label_policy\":{\"id\":\"2014\"},\"ticker\":{\"id\":\"1981\"}},\"id\":\"1980\",\"type\":\"LinearAxis\"},{\"attributes\":{\"line_color\":\"#30a2da\",\"line_width\":2,\"x\":{\"field\":\"k\"},\"y\":{\"field\":\"inertia\"}},\"id\":\"2000\",\"type\":\"Line\"},{\"attributes\":{\"end\":3985.1646489198283,\"reset_end\":3985.1646489198283,\"reset_start\":-246.95872725656605,\"start\":-246.95872725656605,\"tags\":[[[\"inertia\",\"inertia\",null]]]},\"id\":\"1965\",\"type\":\"Range1d\"},{\"attributes\":{},\"id\":\"1986\",\"type\":\"WheelZoomTool\"},{\"attributes\":{\"line_alpha\":0.2,\"line_color\":\"#30a2da\",\"line_width\":2,\"x\":{\"field\":\"k\"},\"y\":{\"field\":\"inertia\"}},\"id\":\"2002\",\"type\":\"Line\"},{\"attributes\":{},\"id\":\"1988\",\"type\":\"ResetTool\"},{\"attributes\":{\"axis_label\":\"k\",\"coordinates\":null,\"formatter\":{\"id\":\"2008\"},\"group\":null,\"major_label_policy\":{\"id\":\"2009\"},\"ticker\":{\"id\":\"2006\"}},\"id\":\"1976\",\"type\":\"LinearAxis\"},{\"attributes\":{},\"id\":\"1985\",\"type\":\"PanTool\"},{\"attributes\":{\"axis\":{\"id\":\"1976\"},\"coordinates\":null,\"grid_line_color\":null,\"group\":null,\"ticker\":null},\"id\":\"1979\",\"type\":\"Grid\"},{\"attributes\":{},\"id\":\"1984\",\"type\":\"SaveTool\"},{\"attributes\":{\"source\":{\"id\":\"1997\"}},\"id\":\"2004\",\"type\":\"CDSView\"},{\"attributes\":{\"end\":10.0,\"reset_end\":10.0,\"reset_start\":1.0,\"start\":1.0,\"tags\":[[[\"k\",\"k\",null]]]},\"id\":\"1964\",\"type\":\"Range1d\"},{\"attributes\":{},\"id\":\"1981\",\"type\":\"BasicTicker\"},{\"attributes\":{},\"id\":\"2008\",\"type\":\"BasicTickFormatter\"},{\"attributes\":{},\"id\":\"2009\",\"type\":\"AllLabels\"},{\"attributes\":{\"bottom_units\":\"screen\",\"coordinates\":null,\"fill_alpha\":0.5,\"fill_color\":\"lightgrey\",\"group\":null,\"left_units\":\"screen\",\"level\":\"overlay\",\"line_alpha\":1.0,\"line_color\":\"black\",\"line_dash\":[4,4],\"line_width\":2,\"right_units\":\"screen\",\"syncable\":false,\"top_units\":\"screen\"},\"id\":\"1989\",\"type\":\"BoxAnnotation\"},{\"attributes\":{\"ticks\":[1,2,3,4,5,6,7,8,9,10]},\"id\":\"2006\",\"type\":\"FixedTicker\"},{\"attributes\":{\"tools\":[{\"id\":\"1966\"},{\"id\":\"1984\"},{\"id\":\"1985\"},{\"id\":\"1986\"},{\"id\":\"1987\"},{\"id\":\"1988\"}]},\"id\":\"1990\",\"type\":\"Toolbar\"},{\"attributes\":{\"line_color\":\"#30a2da\",\"line_width\":2,\"x\":{\"field\":\"k\"},\"y\":{\"field\":\"inertia\"}},\"id\":\"2005\",\"type\":\"Line\"},{\"attributes\":{\"coordinates\":null,\"data_source\":{\"id\":\"1997\"},\"glyph\":{\"id\":\"2000\"},\"group\":null,\"hover_glyph\":null,\"muted_glyph\":{\"id\":\"2002\"},\"nonselection_glyph\":{\"id\":\"2001\"},\"selection_glyph\":{\"id\":\"2005\"},\"view\":{\"id\":\"2004\"}},\"id\":\"2003\",\"type\":\"GlyphRenderer\"}],\"root_ids\":[\"1962\"]},\"title\":\"Bokeh Application\",\"version\":\"2.4.2\"}};\n",
       "    var render_items = [{\"docid\":\"a7d93d34-fcdd-4732-8cc9-dd63db2ae505\",\"root_ids\":[\"1962\"],\"roots\":{\"1962\":\"ee887624-ca68-4134-9f34-efe0ea223cd2\"}}];\n",
       "    root.Bokeh.embed.embed_items_notebook(docs_json, render_items);\n",
       "  }\n",
       "  if (root.Bokeh !== undefined && root.Bokeh.Panel !== undefined) {\n",
       "    embed_document(root);\n",
       "  } else {\n",
       "    var attempts = 0;\n",
       "    var timer = setInterval(function(root) {\n",
       "      if (root.Bokeh !== undefined && root.Bokeh.Panel !== undefined) {\n",
       "        clearInterval(timer);\n",
       "        embed_document(root);\n",
       "      } else if (document.readyState == \"complete\") {\n",
       "        attempts++;\n",
       "        if (attempts > 200) {\n",
       "          clearInterval(timer);\n",
       "          console.log(\"Bokeh: ERROR: Unable to run BokehJS code because BokehJS library is missing\");\n",
       "        }\n",
       "      }\n",
       "    }, 25, root)\n",
       "  }\n",
       "})(window);</script>"
      ],
      "text/plain": [
       ":Curve   [k]   (inertia)"
      ]
     },
     "execution_count": 207,
     "metadata": {
      "application/vnd.holoviews_exec.v0+json": {
       "id": "1962"
      }
     },
     "output_type": "execute_result"
    }
   ],
   "source": [
    "#Create the elbow curve\n",
    "elbow_data = {'k':k, 'inertia': inertia}\n",
    "elbow_df = pd.DataFrame(elbow_data)\n",
    "elbow_df.hvplot.line(x=\"k\",y=\"inertia\",xticks=k,title='Crypto Elbow Curve')"
   ]
  },
  {
   "cell_type": "code",
   "execution_count": 208,
   "id": "1a899300",
   "metadata": {},
   "outputs": [
    {
     "data": {
      "image/png": "[encoded data removed]",
      "text/plain": [
       "<Figure size 1152x576 with 1 Axes>"
      ]
     },
     "metadata": {
      "needs_background": "light"
     },
     "output_type": "display_data"
    }
   ],
   "source": [
    "plt.figure(figsize=(16,8))\n",
    "plt.plot(elbow_data['k'], elbow_data['inertia'], 'bx-')\n",
    "plt.xlabel('k')\n",
    "plt.ylabel('inertia')\n",
    "plt.title('The Elbow Method showing the optimal k')\n",
    "plt.show()"
   ]
  },
  {
   "cell_type": "code",
   "execution_count": 221,
   "id": "848b3b52",
   "metadata": {},
   "outputs": [],
   "source": [
    "# Initialize the K-Means model.\n",
    "model = KMeans(n_clusters=5, random_state=21).fit(pcs_df)\n",
    "\n",
    "# Fit the model\n",
    "y_pred = model.fit_predict(pcs_df)"
   ]
  },
  {
   "cell_type": "code",
   "execution_count": 223,
   "id": "b36aea67",
   "metadata": {},
   "outputs": [
    {
     "data": {
      "text/html": [
       "<div>\n",
       "<style scoped>\n",
       "    .dataframe tbody tr th:only-of-type {\n",
       "        vertical-align: middle;\n",
       "    }\n",
       "\n",
       "    .dataframe tbody tr th {\n",
       "        vertical-align: top;\n",
       "    }\n",
       "\n",
       "    .dataframe thead th {\n",
       "        text-align: right;\n",
       "    }\n",
       "</style>\n",
       "<table border=\"1\" class=\"dataframe\">\n",
       "  <thead>\n",
       "    <tr style=\"text-align: right;\">\n",
       "      <th></th>\n",
       "      <th>pc1</th>\n",
       "      <th>pc2</th>\n",
       "      <th>pc3</th>\n",
       "      <th>class</th>\n",
       "    </tr>\n",
       "  </thead>\n",
       "  <tbody>\n",
       "    <tr>\n",
       "      <th>42</th>\n",
       "      <td>-0.315620</td>\n",
       "      <td>0.964090</td>\n",
       "      <td>-0.541708</td>\n",
       "      <td>0</td>\n",
       "    </tr>\n",
       "    <tr>\n",
       "      <th>404</th>\n",
       "      <td>-0.299008</td>\n",
       "      <td>0.964338</td>\n",
       "      <td>-0.542077</td>\n",
       "      <td>0</td>\n",
       "    </tr>\n",
       "  </tbody>\n",
       "</table>\n",
       "</div>"
      ],
      "text/plain": [
       "          pc1       pc2       pc3  class\n",
       "42  -0.315620  0.964090 -0.541708      0\n",
       "404 -0.299008  0.964338 -0.542077      0"
      ]
     },
     "execution_count": 223,
     "metadata": {},
     "output_type": "execute_result"
    }
   ],
   "source": [
    "pcs_df['class'] = model.labels_\n",
    "pcs_df.head(2)"
   ]
  },
  {
   "cell_type": "code",
   "execution_count": 224,
   "id": "c547a62b",
   "metadata": {},
   "outputs": [
    {
     "data": {
      "text/html": [
       "<div>\n",
       "<style scoped>\n",
       "    .dataframe tbody tr th:only-of-type {\n",
       "        vertical-align: middle;\n",
       "    }\n",
       "\n",
       "    .dataframe tbody tr th {\n",
       "        vertical-align: top;\n",
       "    }\n",
       "\n",
       "    .dataframe thead th {\n",
       "        text-align: right;\n",
       "    }\n",
       "</style>\n",
       "<table border=\"1\" class=\"dataframe\">\n",
       "  <thead>\n",
       "    <tr style=\"text-align: right;\">\n",
       "      <th></th>\n",
       "      <th>Algorithm</th>\n",
       "      <th>ProofType</th>\n",
       "      <th>TotalCoinsMined</th>\n",
       "      <th>TotalCoinSupply</th>\n",
       "      <th>pc1</th>\n",
       "      <th>pc2</th>\n",
       "      <th>pc3</th>\n",
       "      <th>class</th>\n",
       "      <th>CoinName</th>\n",
       "    </tr>\n",
       "  </thead>\n",
       "  <tbody>\n",
       "    <tr>\n",
       "      <th>42</th>\n",
       "      <td>Scrypt</td>\n",
       "      <td>PoW/PoS</td>\n",
       "      <td>4.199995e+01</td>\n",
       "      <td>42</td>\n",
       "      <td>-0.315620</td>\n",
       "      <td>0.964090</td>\n",
       "      <td>-0.541708</td>\n",
       "      <td>0</td>\n",
       "      <td>42 Coin</td>\n",
       "    </tr>\n",
       "    <tr>\n",
       "      <th>404</th>\n",
       "      <td>Scrypt</td>\n",
       "      <td>PoW/PoS</td>\n",
       "      <td>1.055185e+09</td>\n",
       "      <td>532000000</td>\n",
       "      <td>-0.299008</td>\n",
       "      <td>0.964338</td>\n",
       "      <td>-0.542077</td>\n",
       "      <td>0</td>\n",
       "      <td>404Coin</td>\n",
       "    </tr>\n",
       "  </tbody>\n",
       "</table>\n",
       "</div>"
      ],
      "text/plain": [
       "    Algorithm ProofType  TotalCoinsMined TotalCoinSupply       pc1       pc2  \\\n",
       "42     Scrypt   PoW/PoS     4.199995e+01              42 -0.315620  0.964090   \n",
       "404    Scrypt   PoW/PoS     1.055185e+09       532000000 -0.299008  0.964338   \n",
       "\n",
       "          pc3  class CoinName  \n",
       "42  -0.541708      0  42 Coin  \n",
       "404 -0.542077      0  404Coin  "
      ]
     },
     "execution_count": 224,
     "metadata": {},
     "output_type": "execute_result"
    }
   ],
   "source": [
    "clustered_df = pd.concat([crypto_df,pcs_df,crypto_name_df], axis=1)\n",
    "clustered_df.head(2)"
   ]
  }
 ],
 "metadata": {
  "kernelspec": {
   "display_name": "Python 3 (ipykernel)",
   "language": "python",
   "name": "python3"
  },
  "language_info": {
   "codemirror_mode": {
    "name": "ipython",
    "version": 3
   },
   "file_extension": ".py",
   "mimetype": "text/x-python",
   "name": "python",
   "nbconvert_exporter": "python",
   "pygments_lexer": "ipython3",
   "version": "3.7.11"
  }
 },
 "nbformat": 4,
 "nbformat_minor": 5
}
